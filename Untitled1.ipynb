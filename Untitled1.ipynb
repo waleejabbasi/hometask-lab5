{
 "cells": [
  {
   "cell_type": "code",
   "execution_count": null,
   "id": "dab66826-3ae8-4432-9b0b-9d26cdc21747",
   "metadata": {},
   "outputs": [],
   "source": [
    "# Home task\n",
    "#2022f-bse-123\n",
    "import pandas as pd\n",
    "from sklearn.model_selection import train_test_split\n",
    "from sklearn.tree import DecisionTreeClassifier\n",
    "from sklearn.metrics import confusion_matrix, accuracy_score\n",
    "\n",
    "# Creating the dataset\n",
    "data = {\n",
    "    'gender': [0, 1, 1, 1, 0, 1],  # male=0, female=1\n",
    "    'insurance': [1, 0, 1, 1, 0, 1],  # Yes=1, No=0\n",
    "    'number_of_visits': [2, 1, 5, 3, 0, 7],\n",
    "    'emergency_room_visit': [0, 1, 1, 0, 0, 1],  # Yes=1, No=0\n",
    "    'major_disease': [0, 1, 2, 3, 4, 5],  # Encoding diseases (Flu=0, Asthma=1, etc.)\n",
    "    'has_chronic_condition': [0, 1, 1, 1, 0, 1]  # Yes=1, No=0\n",
    "}\n",
    "\n",
    "df = pd.DataFrame(data)\n",
    "\n",
    "# Features and target variable\n",
    "X = df[['gender', 'insurance', 'number_of_visits', 'emergency_room_visit', 'major_disease']]\n",
    "y = df['has_chronic_condition']\n",
    "\n",
    "# Split the data into training and testing sets\n",
    "X_train, X_test, y_train, y_test = train_test_split(X, y, test_size=0.33, random_state=42)\n",
    "\n",
    "# Initialize the Decision Tree classifier\n",
    "model = DecisionTreeClassifier(random_state=42)\n",
    "\n",
    "# Train the model\n",
    "model.fit(X_train, y_train)\n",
    "\n",
    "# Make predictions\n",
    "y_pred = model.predict(X_test)\n",
    "\n",
    "# Calculate the confusion matrix\n",
    "cm = confusion_matrix(y_test, y_pred)\n",
    "\n",
    "# Calculate the accuracy\n",
    "accuracy = accuracy_score(y_test, y_pred)\n",
    "print(f\"Accuracy: {accuracy}\")\n",
    "\n",
    "# Print the confusion matrix\n",
    "print(\"Confusion Matrix:\")\n",
    "print(cm)\n",
    "\n",
    "# Example prediction for a new patient\n",
    "# Gender: Female (1), Insurance: Yes (1), Number of Visits: 4, ER Visit: Yes (1), Major Disease: Hypertension (3)\n",
    "new_patient = [[1, 1, 4, 1, 3]]\n",
    "prediction = model.predict(new_patient)\n",
    "print(f\"Prediction for the new patient: {'Has chronic condition' if prediction[0] == 1 else 'No chronic condition'}\")\n"
   ]
  },
  {
   "cell_type": "code",
   "execution_count": null,
   "id": "307eb8a4-5dbe-464f-98ee-e550f058bd5d",
   "metadata": {},
   "outputs": [],
   "source": []
  }
 ],
 "metadata": {
  "kernelspec": {
   "display_name": "Python 3 (ipykernel)",
   "language": "python",
   "name": "python3"
  },
  "language_info": {
   "codemirror_mode": {
    "name": "ipython",
    "version": 3
   },
   "file_extension": ".py",
   "mimetype": "text/x-python",
   "name": "python",
   "nbconvert_exporter": "python",
   "pygments_lexer": "ipython3",
   "version": "3.12.7"
  }
 },
 "nbformat": 4,
 "nbformat_minor": 5
}
